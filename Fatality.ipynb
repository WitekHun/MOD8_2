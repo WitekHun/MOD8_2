{
 "cells": [
  {
   "cell_type": "code",
   "execution_count": 1,
   "id": "0efec803",
   "metadata": {},
   "outputs": [],
   "source": [
    "import pandas as pd\n",
    "import numpy as np\n",
    "import missingno as msno\n",
    "from pandas.api.types import CategoricalDtype\n",
    "import matplotlib.pyplot as plt"
   ]
  },
  {
   "cell_type": "code",
   "execution_count": 2,
   "id": "6566ca30",
   "metadata": {},
   "outputs": [
    {
     "data": {
      "text/html": [
       "<div>\n",
       "<style scoped>\n",
       "    .dataframe tbody tr th:only-of-type {\n",
       "        vertical-align: middle;\n",
       "    }\n",
       "\n",
       "    .dataframe tbody tr th {\n",
       "        vertical-align: top;\n",
       "    }\n",
       "\n",
       "    .dataframe thead th {\n",
       "        text-align: right;\n",
       "    }\n",
       "</style>\n",
       "<table border=\"1\" class=\"dataframe\">\n",
       "  <thead>\n",
       "    <tr style=\"text-align: right;\">\n",
       "      <th></th>\n",
       "      <th>name</th>\n",
       "    </tr>\n",
       "    <tr>\n",
       "      <th>signs_of_mental_illness</th>\n",
       "      <th></th>\n",
       "    </tr>\n",
       "  </thead>\n",
       "  <tbody>\n",
       "    <tr>\n",
       "      <th>False</th>\n",
       "      <td>4200</td>\n",
       "    </tr>\n",
       "    <tr>\n",
       "      <th>True</th>\n",
       "      <td>1216</td>\n",
       "    </tr>\n",
       "  </tbody>\n",
       "</table>\n",
       "</div>"
      ],
      "text/plain": [
       "                         name\n",
       "signs_of_mental_illness      \n",
       "False                    4200\n",
       "True                     1216"
      ]
     },
     "execution_count": 2,
     "metadata": {},
     "output_type": "execute_result"
    }
   ],
   "source": [
    "fatal = pd.read_csv(\"fatal-police-shootings-data.csv\")\n",
    "fatal_rm = fatal.groupby([\"race\", \"signs_of_mental_illness\"]).agg({\"name\": \"count\"})\n",
    "fatal_rm.reset_index(level=1, inplace=True)\n",
    "fatal_mental=fatal.groupby(['signs_of_mental_illness']).agg({'name':'count'})\n",
    "fatal_mental"
   ]
  },
  {
   "cell_type": "code",
   "execution_count": 3,
   "id": "3e196d01",
   "metadata": {},
   "outputs": [
    {
     "data": {
      "text/html": [
       "<div>\n",
       "<style scoped>\n",
       "    .dataframe tbody tr th:only-of-type {\n",
       "        vertical-align: middle;\n",
       "    }\n",
       "\n",
       "    .dataframe tbody tr th {\n",
       "        vertical-align: top;\n",
       "    }\n",
       "\n",
       "    .dataframe thead th {\n",
       "        text-align: right;\n",
       "    }\n",
       "</style>\n",
       "<table border=\"1\" class=\"dataframe\">\n",
       "  <thead>\n",
       "    <tr style=\"text-align: right;\">\n",
       "      <th></th>\n",
       "      <th>signs_of_mental_illness</th>\n",
       "      <th>count</th>\n",
       "      <th>fatal_percent_of_ill_by_race[%]</th>\n",
       "    </tr>\n",
       "    <tr>\n",
       "      <th>race</th>\n",
       "      <th></th>\n",
       "      <th></th>\n",
       "      <th></th>\n",
       "    </tr>\n",
       "  </thead>\n",
       "  <tbody>\n",
       "    <tr>\n",
       "      <th>A</th>\n",
       "      <td>False</td>\n",
       "      <td>69</td>\n",
       "      <td>1.64</td>\n",
       "    </tr>\n",
       "    <tr>\n",
       "      <th>A</th>\n",
       "      <td>True</td>\n",
       "      <td>24</td>\n",
       "      <td>1.97</td>\n",
       "    </tr>\n",
       "    <tr>\n",
       "      <th>B</th>\n",
       "      <td>False</td>\n",
       "      <td>1114</td>\n",
       "      <td>26.52</td>\n",
       "    </tr>\n",
       "    <tr>\n",
       "      <th>B</th>\n",
       "      <td>True</td>\n",
       "      <td>184</td>\n",
       "      <td>15.13</td>\n",
       "    </tr>\n",
       "    <tr>\n",
       "      <th>H</th>\n",
       "      <td>False</td>\n",
       "      <td>745</td>\n",
       "      <td>17.74</td>\n",
       "    </tr>\n",
       "    <tr>\n",
       "      <th>H</th>\n",
       "      <td>True</td>\n",
       "      <td>157</td>\n",
       "      <td>12.91</td>\n",
       "    </tr>\n",
       "    <tr>\n",
       "      <th>N</th>\n",
       "      <td>False</td>\n",
       "      <td>64</td>\n",
       "      <td>1.52</td>\n",
       "    </tr>\n",
       "    <tr>\n",
       "      <th>N</th>\n",
       "      <td>True</td>\n",
       "      <td>14</td>\n",
       "      <td>1.15</td>\n",
       "    </tr>\n",
       "    <tr>\n",
       "      <th>O</th>\n",
       "      <td>False</td>\n",
       "      <td>37</td>\n",
       "      <td>0.88</td>\n",
       "    </tr>\n",
       "    <tr>\n",
       "      <th>O</th>\n",
       "      <td>True</td>\n",
       "      <td>11</td>\n",
       "      <td>0.90</td>\n",
       "    </tr>\n",
       "    <tr>\n",
       "      <th>W</th>\n",
       "      <td>False</td>\n",
       "      <td>1763</td>\n",
       "      <td>41.98</td>\n",
       "    </tr>\n",
       "    <tr>\n",
       "      <th>W</th>\n",
       "      <td>True</td>\n",
       "      <td>713</td>\n",
       "      <td>58.63</td>\n",
       "    </tr>\n",
       "  </tbody>\n",
       "</table>\n",
       "</div>"
      ],
      "text/plain": [
       "      signs_of_mental_illness  count  fatal_percent_of_ill_by_race[%]\n",
       "race                                                                 \n",
       "A                       False     69                             1.64\n",
       "A                        True     24                             1.97\n",
       "B                       False   1114                            26.52\n",
       "B                        True    184                            15.13\n",
       "H                       False    745                            17.74\n",
       "H                        True    157                            12.91\n",
       "N                       False     64                             1.52\n",
       "N                        True     14                             1.15\n",
       "O                       False     37                             0.88\n",
       "O                        True     11                             0.90\n",
       "W                       False   1763                            41.98\n",
       "W                        True    713                            58.63"
      ]
     },
     "execution_count": 3,
     "metadata": {},
     "output_type": "execute_result"
    }
   ],
   "source": [
    "def percent(x):\n",
    "        if x[\"signs_of_mental_illness\"] == True:\n",
    "            rate = x[\"name\"] * 100 / 1216\n",
    "            return round(rate, 2)\n",
    "        elif x[\"signs_of_mental_illness\"] == False:\n",
    "            rate = x[\"name\"] * 100 / 4200\n",
    "            return round(rate, 2)\n",
    "\n",
    "fatal_rm[\"fatal_percent_of_ill_by_race[%]\"] = fatal_rm.apply(lambda x: percent(x), axis=1)\n",
    "fatal_rm.rename({\"name\": \"count\"}, axis=1, inplace=True)\n",
    "fatal_rm"
   ]
  },
  {
   "cell_type": "code",
   "execution_count": 14,
   "id": "371a100c",
   "metadata": {},
   "outputs": [
    {
     "data": {
      "text/plain": [
       "'Największy procent ofiar z objawami choroby psychicznej jest wśród rasy W i wynosi 58.63%'"
      ]
     },
     "execution_count": 14,
     "metadata": {},
     "output_type": "execute_result"
    }
   ],
   "source": [
    "fatal_rm_mental = fatal_rm[fatal_rm.signs_of_mental_illness == True]\n",
    "#fatal_rm_mental.sort_values(by=\"fatal_percent_of_ill_by_race[%]\", ascending=False)\n",
    "fatal_rm_mental.sort_values(by=\"fatal_percent_of_ill_by_race[%]\", ascending=False).to_csv(\"tmp/fatal_mental.csv\")\n",
    "race = fatal_rm_mental[\"fatal_percent_of_ill_by_race[%]\"].idxmax()\n",
    "percent = fatal_rm_mental[\"fatal_percent_of_ill_by_race[%]\"].max()\n",
    "f\"Największy procent ofiar z objawami choroby psychicznej jest wśród rasy {race} i wynosi {percent}%\""
   ]
  },
  {
   "cell_type": "code",
   "execution_count": 5,
   "id": "96cfa5c1",
   "metadata": {},
   "outputs": [],
   "source": [
    "fatal[\"date\"] = pd.to_datetime(fatal[\"date\"])\n",
    "fatal[\"date\"].dt.day_name()\n",
    "fatal_day = fatal.join(fatal[\"date\"].dt.day_name(), rsuffix=\"_day\")\n",
    "fatal_weekday = fatal_day.groupby([\"date_day\"]).agg({\"name\": \"count\"})\n",
    "fatal_weekday.reset_index(inplace=True)\n",
    "fatal_weekday.rename(columns={\"name\": \"count\"}, inplace=True)"
   ]
  },
  {
   "cell_type": "code",
   "execution_count": 6,
   "id": "bb4736ad",
   "metadata": {},
   "outputs": [
    {
     "data": {
      "text/plain": [
       "<Axes: xlabel='date_day'>"
      ]
     },
     "execution_count": 6,
     "metadata": {},
     "output_type": "execute_result"
    },
    {
     "data": {
      "image/png": "[encoded data removed]",
      "text/plain": [
       "<Figure size 640x480 with 1 Axes>"
      ]
     },
     "metadata": {},
     "output_type": "display_data"
    }
   ],
   "source": [
    "cats = [\n",
    "        \"Monday\",\n",
    "        \"Tuesday\",\n",
    "        \"Wednesday\",\n",
    "        \"Thursday\",\n",
    "        \"Friday\",\n",
    "        \"Saturday\",\n",
    "        \"Sunday\",\n",
    "]\n",
    "cat_type = CategoricalDtype(categories=cats, ordered=True)\n",
    "fatal_weekday[\"date_day\"] = fatal_weekday[\"date_day\"].astype(cat_type)\n",
    "fatal_weekday = fatal_weekday.groupby([\"date_day\"]).sum().reindex(cats)\n",
    "fatal_weekday.reset_index(inplace=True)\n",
    "fatal_weekday.to_csv(\"fatal_weekday.csv\")\n",
    "fatal_rm.to_csv(\"fatal_rm.csv\")\n",
    "fatal_weekday.plot(x=\"date_day\", y=\"count\", kind=\"bar\")"
   ]
  },
  {
   "cell_type": "code",
   "execution_count": 7,
   "id": "6abc883d",
   "metadata": {},
   "outputs": [
    {
     "data": {
      "text/plain": [
       "(60, 2)"
      ]
     },
     "execution_count": 7,
     "metadata": {},
     "output_type": "execute_result"
    }
   ],
   "source": [
    "state_pop = pd.read_html(\"https://simple.wikipedia.org/wiki/List_of_U.S._states_by_population\", header=0)\n",
    "state_pop[0].to_csv(\"tmp/pop_tmp.csv\")\n",
    "pop = state_pop[0].sort_values(by=\"State\")\n",
    "pop.columns = range(0, 11)\n",
    "pop.drop([0, 1, 3, 5, 6, 7, 8, 9, 10], axis=1, inplace=True)\n",
    "pop.shape"
   ]
  },
  {
   "cell_type": "code",
   "execution_count": 8,
   "id": "5fbbeea3",
   "metadata": {},
   "outputs": [
    {
     "data": {
      "text/plain": [
       "(77, 2)"
      ]
     },
     "execution_count": 8,
     "metadata": {},
     "output_type": "execute_result"
    }
   ],
   "source": [
    "state_name = pd.read_html(\"https://en.wikipedia.org/wiki/List_of_U.S._state_and_territory_abbreviations#Table\", header=0)\n",
    "state_name = state_name[0]\n",
    "state_name.reset_index(inplace=True)\n",
    "state_name.drop(state_name.index[0:11], inplace=True)\n",
    "state_name.columns = range(1, 12)\n",
    "state_name.drop([1, 3, 4, 5, 6, 8, 9, 10, 11], axis=1, inplace=True)\n",
    "state_name.to_csv(\"tmp/state_name.csv\")\n",
    "state_name.shape"
   ]
  },
  {
   "cell_type": "code",
   "execution_count": 9,
   "id": "9cd4a7b2",
   "metadata": {},
   "outputs": [
    {
     "data": {
      "text/html": [
       "<div>\n",
       "<style scoped>\n",
       "    .dataframe tbody tr th:only-of-type {\n",
       "        vertical-align: middle;\n",
       "    }\n",
       "\n",
       "    .dataframe tbody tr th {\n",
       "        vertical-align: top;\n",
       "    }\n",
       "\n",
       "    .dataframe thead th {\n",
       "        text-align: right;\n",
       "    }\n",
       "</style>\n",
       "<table border=\"1\" class=\"dataframe\">\n",
       "  <thead>\n",
       "    <tr style=\"text-align: right;\">\n",
       "      <th></th>\n",
       "      <th>2</th>\n",
       "      <th>3</th>\n",
       "    </tr>\n",
       "  </thead>\n",
       "  <tbody>\n",
       "    <tr>\n",
       "      <th>11</th>\n",
       "      <td>Alabama</td>\n",
       "      <td>AL</td>\n",
       "    </tr>\n",
       "    <tr>\n",
       "      <th>12</th>\n",
       "      <td>Alaska</td>\n",
       "      <td>AK</td>\n",
       "    </tr>\n",
       "    <tr>\n",
       "      <th>13</th>\n",
       "      <td>Arizona</td>\n",
       "      <td>AZ</td>\n",
       "    </tr>\n",
       "    <tr>\n",
       "      <th>14</th>\n",
       "      <td>Arkansas</td>\n",
       "      <td>AR</td>\n",
       "    </tr>\n",
       "    <tr>\n",
       "      <th>15</th>\n",
       "      <td>California</td>\n",
       "      <td>CA</td>\n",
       "    </tr>\n",
       "  </tbody>\n",
       "</table>\n",
       "</div>"
      ],
      "text/plain": [
       "             2   3\n",
       "11     Alabama  AL\n",
       "12      Alaska  AK\n",
       "13     Arizona  AZ\n",
       "14    Arkansas  AR\n",
       "15  California  CA"
      ]
     },
     "execution_count": 9,
     "metadata": {},
     "output_type": "execute_result"
    }
   ],
   "source": [
    "state_name.columns = [2, 3]\n",
    "state_name.head(5)"
   ]
  },
  {
   "cell_type": "code",
   "execution_count": 10,
   "id": "4049440b",
   "metadata": {},
   "outputs": [
    {
     "data": {
      "text/html": [
       "<div>\n",
       "<style scoped>\n",
       "    .dataframe tbody tr th:only-of-type {\n",
       "        vertical-align: middle;\n",
       "    }\n",
       "\n",
       "    .dataframe tbody tr th {\n",
       "        vertical-align: top;\n",
       "    }\n",
       "\n",
       "    .dataframe thead th {\n",
       "        text-align: right;\n",
       "    }\n",
       "</style>\n",
       "<table border=\"1\" class=\"dataframe\">\n",
       "  <thead>\n",
       "    <tr style=\"text-align: right;\">\n",
       "      <th></th>\n",
       "      <th>state_full</th>\n",
       "      <th>pop</th>\n",
       "      <th>state</th>\n",
       "    </tr>\n",
       "  </thead>\n",
       "  <tbody>\n",
       "    <tr>\n",
       "      <th>55</th>\n",
       "      <td>Utah</td>\n",
       "      <td>2763885</td>\n",
       "      <td>UT</td>\n",
       "    </tr>\n",
       "    <tr>\n",
       "      <th>31</th>\n",
       "      <td>Nebraska</td>\n",
       "      <td>1826341</td>\n",
       "      <td>NE</td>\n",
       "    </tr>\n",
       "    <tr>\n",
       "      <th>26</th>\n",
       "      <td>Michigan</td>\n",
       "      <td>9883640</td>\n",
       "      <td>MI</td>\n",
       "    </tr>\n",
       "    <tr>\n",
       "      <th>59</th>\n",
       "      <td>West Virginia</td>\n",
       "      <td>1852994</td>\n",
       "      <td>WV</td>\n",
       "    </tr>\n",
       "    <tr>\n",
       "      <th>1</th>\n",
       "      <td>Alaska</td>\n",
       "      <td>710231</td>\n",
       "      <td>AK</td>\n",
       "    </tr>\n",
       "  </tbody>\n",
       "</table>\n",
       "</div>"
      ],
      "text/plain": [
       "       state_full      pop state\n",
       "55           Utah  2763885    UT\n",
       "31       Nebraska  1826341    NE\n",
       "26       Michigan  9883640    MI\n",
       "59  West Virginia  1852994    WV\n",
       "1          Alaska   710231    AK"
      ]
     },
     "execution_count": 10,
     "metadata": {},
     "output_type": "execute_result"
    }
   ],
   "source": [
    "pop_by_state = pd.merge(pop, state_name, how=\"left\")\n",
    "pop_by_state.columns = [\"state_full\", \"pop\", \"state\"]\n",
    "pop_by_state.sample(5)"
   ]
  },
  {
   "cell_type": "code",
   "execution_count": 11,
   "id": "045224bf",
   "metadata": {},
   "outputs": [
    {
     "data": {
      "text/html": [
       "<div>\n",
       "<style scoped>\n",
       "    .dataframe tbody tr th:only-of-type {\n",
       "        vertical-align: middle;\n",
       "    }\n",
       "\n",
       "    .dataframe tbody tr th {\n",
       "        vertical-align: top;\n",
       "    }\n",
       "\n",
       "    .dataframe thead th {\n",
       "        text-align: right;\n",
       "    }\n",
       "</style>\n",
       "<table border=\"1\" class=\"dataframe\">\n",
       "  <thead>\n",
       "    <tr style=\"text-align: right;\">\n",
       "      <th></th>\n",
       "      <th>state</th>\n",
       "      <th>name</th>\n",
       "      <th>state_full</th>\n",
       "      <th>pop</th>\n",
       "    </tr>\n",
       "  </thead>\n",
       "  <tbody>\n",
       "    <tr>\n",
       "      <th>0</th>\n",
       "      <td>AK</td>\n",
       "      <td>39</td>\n",
       "      <td>Alaska</td>\n",
       "      <td>710231</td>\n",
       "    </tr>\n",
       "    <tr>\n",
       "      <th>1</th>\n",
       "      <td>AL</td>\n",
       "      <td>104</td>\n",
       "      <td>Alabama</td>\n",
       "      <td>4779736</td>\n",
       "    </tr>\n",
       "    <tr>\n",
       "      <th>2</th>\n",
       "      <td>AR</td>\n",
       "      <td>83</td>\n",
       "      <td>Arkansas</td>\n",
       "      <td>2915918</td>\n",
       "    </tr>\n",
       "    <tr>\n",
       "      <th>3</th>\n",
       "      <td>AZ</td>\n",
       "      <td>254</td>\n",
       "      <td>Arizona</td>\n",
       "      <td>6392017</td>\n",
       "    </tr>\n",
       "    <tr>\n",
       "      <th>4</th>\n",
       "      <td>CA</td>\n",
       "      <td>799</td>\n",
       "      <td>California</td>\n",
       "      <td>37253956</td>\n",
       "    </tr>\n",
       "  </tbody>\n",
       "</table>\n",
       "</div>"
      ],
      "text/plain": [
       "  state  name  state_full       pop\n",
       "0    AK    39      Alaska    710231\n",
       "1    AL   104     Alabama   4779736\n",
       "2    AR    83    Arkansas   2915918\n",
       "3    AZ   254     Arizona   6392017\n",
       "4    CA   799  California  37253956"
      ]
     },
     "execution_count": 11,
     "metadata": {},
     "output_type": "execute_result"
    }
   ],
   "source": [
    "fatal_by_state = fatal.groupby([\"state\"]).agg({\"name\": \"count\"})\n",
    "fatal_by_state.reset_index(inplace=True)\n",
    "\n",
    "fatal_by_state_pop = pd.merge(fatal_by_state, pop_by_state, how=\"left\")\n",
    "fatal_by_state_pop.head()"
   ]
  },
  {
   "cell_type": "code",
   "execution_count": 12,
   "id": "681360a1",
   "metadata": {},
   "outputs": [],
   "source": [
    "def fatal_per_pop(row):\n",
    "        rate = 1000 * row[\"name\"] / row[\"pop\"]\n",
    "        return round(rate, 4)\n",
    "fatal_by_state_pop[\"fatal per 1000\"] = fatal_by_state_pop.apply(lambda row: fatal_per_pop(row), axis=1)\n",
    "fatal_by_state_pop.rename({\"name\": \"count\"}, axis=1, inplace=True)\n",
    "fatal_by_state_pop.to_csv(\"fatality_by_state.csv\")"
   ]
  },
  {
   "cell_type": "code",
   "execution_count": null,
   "id": "3b8ff71b",
   "metadata": {},
   "outputs": [],
   "source": []
  }
 ],
 "metadata": {
  "kernelspec": {
   "display_name": "Python 3 (ipykernel)",
   "language": "python",
   "name": "python3"
  },
  "language_info": {
   "codemirror_mode": {
    "name": "ipython",
    "version": 3
   },
   "file_extension": ".py",
   "mimetype": "text/x-python",
   "name": "python",
   "nbconvert_exporter": "python",
   "pygments_lexer": "ipython3",
   "version": "3.11.1"
  }
 },
 "nbformat": 4,
 "nbformat_minor": 5
}
